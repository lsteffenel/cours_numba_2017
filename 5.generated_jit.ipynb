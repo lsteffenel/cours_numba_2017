{
  "nbformat": 4,
  "nbformat_minor": 0,
  "metadata": {
    "kernelspec": {
      "display_name": "Python 3",
      "language": "python",
      "name": "python3"
    },
    "language_info": {
      "codemirror_mode": {
        "name": "ipython",
        "version": 3
      },
      "file_extension": ".py",
      "mimetype": "text/x-python",
      "name": "python",
      "nbconvert_exporter": "python",
      "pygments_lexer": "ipython3",
      "version": "3.6.3"
    },
    "colab": {
      "name": "5.generated_jit.ipynb",
      "provenance": []
    }
  },
  "cells": [
    {
      "cell_type": "markdown",
      "metadata": {
        "id": "GQdAUhKPglA9"
      },
      "source": [
        "# generated_jit\n",
        "\n",
        "<img src=\"https://github.com/lsteffenel/cours_numba_2017/blob/master/figures/numba_blue_icon_rgb.png?raw=1\" alt=\"Drawing\" style=\"width: 20%;\"/>\n",
        "\n",
        "<center>**Loic Gouarin**</center>\n",
        "<center>*8 novembre 2017*</center>\n",
        "\n",
        "Numba offre également la possibilité de générer une fonction optimisée en fonction de son type. L'idée étant que l'implémentation peut être complètement différente d'un type à l'autre.\n",
        "\n",
        "La fonction utilisant le décorateur **@generated_jit** doit renvoyer une fonction.\n",
        "\n",
        "Afin d'illustrer un peu mieux son fonctionnement, regardons l'exemple suivant"
      ]
    },
    {
      "cell_type": "code",
      "metadata": {
        "collapsed": true,
        "id": "fEsY1ofEglBB"
      },
      "source": [
        "import numba\n",
        "from numba import types"
      ],
      "execution_count": null,
      "outputs": []
    },
    {
      "cell_type": "code",
      "metadata": {
        "collapsed": true,
        "id": "RUX3FCY0glBD"
      },
      "source": [
        "@numba.njit\n",
        "def array2d(a):\n",
        "    for i in range(a.shape[0]):\n",
        "        for j in range(a.shape[1]):\n",
        "            a[i][j] = j\n",
        "\n",
        "@numba.njit\n",
        "def array1d(a):\n",
        "    for i in range(a.shape[0]):\n",
        "        a[i] = 1\n",
        "\n",
        "@numba.generated_jit(nopython=True)\n",
        "def test(a):\n",
        "    if isinstance(a, types.Array) and a.ndim == 2:\n",
        "        return array2d\n",
        "    elif isinstance(a, types.Array) and a.ndim == 1:\n",
        "        return array1d"
      ],
      "execution_count": null,
      "outputs": []
    },
    {
      "cell_type": "code",
      "metadata": {
        "id": "bv4icEAiglBE"
      },
      "source": [
        "import numpy as np\n",
        "\n",
        "a = np.zeros((5, 5))\n",
        "test(a)\n",
        "print(a)"
      ],
      "execution_count": null,
      "outputs": []
    },
    {
      "cell_type": "code",
      "metadata": {
        "id": "yra-vaUBglBF"
      },
      "source": [
        "a = np.zeros(5)\n",
        "test(a)\n",
        "print(a)"
      ],
      "execution_count": null,
      "outputs": []
    },
    {
      "cell_type": "markdown",
      "metadata": {
        "id": "FS3BrpiDglBG"
      },
      "source": [
        "Regardons un peu plus en détail les fonctions qu'a créées Numba."
      ]
    },
    {
      "cell_type": "code",
      "metadata": {
        "id": "6R95vGanglBG"
      },
      "source": [
        "test.inspect_types()"
      ],
      "execution_count": null,
      "outputs": []
    },
    {
      "cell_type": "markdown",
      "metadata": {
        "id": "CY0ui8MrglBH"
      },
      "source": [
        "## Exercice\n",
        "\n",
        "Nous allons reprendre la fonction **spline** réalisée lors de l'utilisation de **jit**. Dans notre exemple, le paramètre d'entrée $y$ peut être un tableau 2d (pour le cas du cercle) ou un tableau 1d (pour le cas des lignes).\n",
        "\n",
        "Faire en sorte que l'on puisse utiliser une fonction **spline** qui dispatche le travail vers une fonction **spline_1d** si $y$ est un tableau 1d et **spline_2d** si $y$ est un tableau 2d.\n",
        "\n",
        "Vous utiliserez **generated_jit** pour que ce soit possible."
      ]
    }
  ]
}