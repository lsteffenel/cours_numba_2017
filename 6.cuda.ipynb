{
  "nbformat": 4,
  "nbformat_minor": 0,
  "metadata": {
    "kernelspec": {
      "display_name": "Python 3",
      "language": "python",
      "name": "python3"
    },
    "language_info": {
      "codemirror_mode": {
        "name": "ipython",
        "version": 3
      },
      "file_extension": ".py",
      "mimetype": "text/x-python",
      "name": "python",
      "nbconvert_exporter": "python",
      "pygments_lexer": "ipython3",
      "version": "3.6.3"
    },
    "colab": {
      "name": "6.cuda.ipynb",
      "provenance": []
    },
    "accelerator": "GPU"
  },
  "cells": [
    {
      "cell_type": "markdown",
      "metadata": {
        "id": "kz3aGD7zg28p"
      },
      "source": [
        "# Numba et cuda\n",
        "\n",
        "<img src=\"https://github.com/lsteffenel/cours_numba_2017/blob/master/figures/numba_blue_icon_rgb.png?raw=1\" alt=\"Drawing\" style=\"width: 20%;\"/>\n",
        "\n",
        "<center>**Loic Gouarin**</center>\n",
        "<center>*8 novembre 2017*</center>\n",
        "\n",
        "L'une des forces de Numba est de pouvoir utiliser les mêmes principes que précédemment pour pouvoir développer rapidement des kernels pouvant tourner sur des cartes GPU. Nous allons voir dans la suite avec quelle simplicité nous pouvons faire du Python et laisser Numba générer les kernels cuda.\n",
        "\n",
        "Il est néanmoins nécessaire d'avoir quelques connaissances sur l'architecture d'un GPU afin de tirer partie de toutes les performances possibles. Voici comment est constituée une carte GPU\n",
        "\n",
        "![cuda](https://github.com/lsteffenel/cours_numba_2017/blob/master/figures/cuda_1.gif?raw=1)\n",
        "![cuda](https://github.com/lsteffenel/cours_numba_2017/blob/master/figures/cuda_memory.jpg?raw=1)\n",
        "\n",
        "Il est important de noter que vous n'aurez pas toutes les fonctionalités que peut offrir cuda. Par exemple, vous ne pouvez pas pour le moment transférer des données sur la mémoire texture, ni faire du parallélisme dynamique.\n",
        "\n",
        "Afin d'utiliser toutes les méthodes pour l'utilisation de cuda dans Numba, il suffit d'importer"
      ]
    },
    {
      "cell_type": "code",
      "metadata": {
        "collapsed": true,
        "id": "4SMUjFAqg28u"
      },
      "source": [
        "from numba import cuda"
      ],
      "execution_count": null,
      "outputs": []
    },
    {
      "cell_type": "markdown",
      "metadata": {
        "id": "iZxMa8-kg28w"
      },
      "source": [
        "De là, vous avez accès à un jit et à différentes fonctionalités que nous allons décrire dans la suite. \n",
        "\n",
        "Prenons un premier exemple qui réalise la somme de deux vecteurs."
      ]
    },
    {
      "cell_type": "code",
      "metadata": {
        "collapsed": true,
        "id": "aQlwgZcUg28w"
      },
      "source": [
        "@cuda.jit\n",
        "def somme(a, b, c):\n",
        "    i = cuda.threadIdx.x + cuda.blockIdx.x*cuda.blockDim.x\n",
        "    if i < a.size:\n",
        "        c[i] = a[i] + b[i]    "
      ],
      "execution_count": null,
      "outputs": []
    },
    {
      "cell_type": "markdown",
      "metadata": {
        "id": "R2UPSFTRg28x"
      },
      "source": [
        "Numba permet de récupérer les identifiants des threads, des blocs et la dimension des blocs via cuda.threadIdx.x, cuda.blockIdx.x et cuda.blockDim.x ce qui est classique si vous connaissez un peu le langage cuda. Nous travaillons ici en 1d mais nous avons également accès à cuda.threadIdx.y(z), cuda.blockIdx.y(z) et cuda.blockDim.y(z) pour travailler en 2d ou 3d."
      ]
    },
    {
      "cell_type": "markdown",
      "metadata": {
        "id": "GgExmZPQg28y"
      },
      "source": [
        "Maintenant que nous avons notre kernel, nous devons définir le nombre de threads par bloc et le nombre de blocs qui sont étroitement liés à nos paramètres d'entrée."
      ]
    },
    {
      "cell_type": "code",
      "metadata": {
        "collapsed": true,
        "id": "Y-Y6QNHSg28y"
      },
      "source": [
        "import numpy as np\n",
        "a = np.random.random(1000)\n",
        "b = np.random.random(1000)\n",
        "c = np.zeros_like(a)\n",
        "\n",
        "threadsperblock = 128\n",
        "blockspergrid = (a.size + (threadsperblock - 1)) // threadsperblock"
      ],
      "execution_count": null,
      "outputs": []
    },
    {
      "cell_type": "markdown",
      "metadata": {
        "id": "2OoibHteg28z"
      },
      "source": [
        "Il suffit à présent d'appeler le kernel avec ces informations."
      ]
    },
    {
      "cell_type": "code",
      "metadata": {
        "collapsed": true,
        "id": "tnSwwz-0g280"
      },
      "source": [
        "somme[blockspergrid, threadsperblock](a, b, c)"
      ],
      "execution_count": null,
      "outputs": []
    },
    {
      "cell_type": "markdown",
      "metadata": {
        "id": "pj99F61Hg281"
      },
      "source": [
        "Vérifions que le résultat est correct."
      ]
    },
    {
      "cell_type": "code",
      "metadata": {
        "id": "vD06NGt7g281"
      },
      "source": [
        "np.all(c == a+b)"
      ],
      "execution_count": null,
      "outputs": []
    },
    {
      "cell_type": "markdown",
      "metadata": {
        "id": "Et4mkOLeg282"
      },
      "source": [
        "On pourra constater que nous n'avons à aucun moment transféré les données du CPU (appelé host) au GPU (appelé device). Numba s'est chargé de le faire à l'appel de la fonction. De même qu'il a récupéré les données du GPU pour pouvoir ensuite avoir les valeurs de c.\n",
        "\n",
        "Nous verrons par la suite que nous pouvons gérer nous même la mémoire (copie de données host vers device et device vers host). Ce qui peut-être plus intéressant lorsque l'on cherche à avoir des performances: plus les données restent sur le device et mieux c'est !!"
      ]
    },
    {
      "cell_type": "markdown",
      "metadata": {
        "id": "fDrWsq_Eg283"
      },
      "source": [
        "Numba offre la possibilité d'avoir les coordonnées absolues dans la grille par l'opérateur *grid(ndim)*. Nous pourrions réécrire l'exemple précédent par"
      ]
    },
    {
      "cell_type": "code",
      "metadata": {
        "collapsed": true,
        "id": "vBYvSbDgg283"
      },
      "source": [
        "@cuda.jit\n",
        "def somme(a, b, c):\n",
        "    i = cuda.grid(1) # cuda.threadIdx.x + cuda.blockIdx.x*cuda.blockDim.x\n",
        "    if i < a.size:\n",
        "        c[i] = a[i] + b[i]"
      ],
      "execution_count": null,
      "outputs": []
    },
    {
      "cell_type": "markdown",
      "metadata": {
        "id": "7cBzHuFeg284"
      },
      "source": [
        "## Gestion de la mémoire\n",
        "\n",
        "Numba offre différentes fonctions pour gérer la mémoire\n",
        "\n",
        "- copier un tableau du host vers le device\n",
        "- copier un tableau du device vers le host\n",
        "- créer des tableaux directement sur le device"
      ]
    },
    {
      "cell_type": "markdown",
      "metadata": {
        "id": "jchAfiEsg284"
      },
      "source": [
        "#### Copier un tableau du host vers le device"
      ]
    },
    {
      "cell_type": "code",
      "metadata": {
        "collapsed": true,
        "id": "e-VnIxoWg285"
      },
      "source": [
        "a = np.zeros(1000)\n",
        "d_a = cuda.to_device(a)"
      ],
      "execution_count": null,
      "outputs": []
    },
    {
      "cell_type": "code",
      "metadata": {
        "id": "e_Wg33Wbg285"
      },
      "source": [
        "d_a.shape"
      ],
      "execution_count": null,
      "outputs": []
    },
    {
      "cell_type": "code",
      "metadata": {
        "id": "R_8cH2aSg285"
      },
      "source": [
        "d_a.dtype"
      ],
      "execution_count": null,
      "outputs": []
    },
    {
      "cell_type": "markdown",
      "metadata": {
        "id": "4OsogZnPg286"
      },
      "source": [
        "#### Copier un tableau du device vers le host"
      ]
    },
    {
      "cell_type": "code",
      "metadata": {
        "collapsed": true,
        "id": "7v4qpx07g286"
      },
      "source": [
        "a = d_a.copy_to_host()"
      ],
      "execution_count": null,
      "outputs": []
    },
    {
      "cell_type": "markdown",
      "metadata": {
        "id": "vtEE56W3g286"
      },
      "source": [
        "#### Créer un tableau sur le device\n",
        "\n",
        "Lorsque vous créez un tableau sur le device, celui-ci à sa place allouée mais n'est pas initialisé (il faut le voir comme si vous faisiez un numpy.empty). "
      ]
    },
    {
      "cell_type": "code",
      "metadata": {
        "collapsed": true,
        "id": "yRffIKN_g286"
      },
      "source": [
        "d_a = cuda.device_array(100)"
      ],
      "execution_count": null,
      "outputs": []
    },
    {
      "cell_type": "code",
      "metadata": {
        "collapsed": true,
        "id": "NWyeR8e-g287"
      },
      "source": [
        "d_b = cuda.device_array_like(b)"
      ],
      "execution_count": null,
      "outputs": []
    },
    {
      "cell_type": "markdown",
      "metadata": {
        "id": "4JP1imPDg287"
      },
      "source": [
        "Reprenons notre exemple précédent. Pour faire la somme de deux vecteurs, nous devons copier a et b sur le device. En revanche, le résultat c n'est utile que sur le device et peut être ensuite rappatrié sur le host.\n",
        "\n",
        "Voici ce que ça donne avec une bonne gestion de la mémoire"
      ]
    },
    {
      "cell_type": "code",
      "metadata": {
        "collapsed": true,
        "id": "NO5TbA_hg287"
      },
      "source": [
        "import numpy as np\n",
        "a = np.random.random(10000)\n",
        "b = np.random.random(10000)\n",
        "d_c = cuda.device_array_like(a)\n",
        "\n",
        "d_a = cuda.to_device(a)\n",
        "d_b = cuda.to_device(b)\n",
        "\n",
        "somme[blockspergrid, threadsperblock](d_a, d_b, d_c)\n",
        "\n",
        "c = d_c.copy_to_host()"
      ],
      "execution_count": null,
      "outputs": []
    },
    {
      "cell_type": "markdown",
      "metadata": {
        "id": "iXcbHe8Ng287"
      },
      "source": [
        "Quel est le gain attendu ? Pour cet exemple, il faut juste voir qu'on évite 3 transferts entre le host et le device:\n",
        "\n",
        "- c n'est pas copier du host vers le device\n",
        "- a et b ne sont pas récupérés à la fin du device"
      ]
    },
    {
      "cell_type": "markdown",
      "metadata": {
        "id": "YONzB5CDg288"
      },
      "source": [
        "## Cas du produit matrice-matrice\n",
        "\n",
        "Nous allons prendre un exemple simple afin d'expliquer un peu mieux la façon d'obtenir de bonnes performances lorsque l'on veut calculer sur une carte graphique.\n",
        "\n",
        "Nous souhaitons donc réaliser un produit matriciel et mettre le résultat dans une autre matrice.\n",
        "\n",
        "Une version naïve peut être"
      ]
    },
    {
      "cell_type": "code",
      "metadata": {
        "collapsed": true,
        "id": "QJZ_zWaog288"
      },
      "source": [
        "@cuda.jit\n",
        "def matmul(A, B, C):\n",
        "    \"\"\"Perform square matrix multiplication of C = A * B\n",
        "    \"\"\"\n",
        "    i, j = cuda.grid(2)\n",
        "    if i < C.shape[0] and j < C.shape[1]:\n",
        "        tmp = 0.\n",
        "        for k in range(A.shape[1]):\n",
        "            tmp += A[i, k] * B[k, j]\n",
        "        C[i, j] = tmp"
      ],
      "execution_count": null,
      "outputs": []
    },
    {
      "cell_type": "markdown",
      "metadata": {
        "id": "EEyhH8wZg288"
      },
      "source": [
        "Initialisons le problème afin de tester notre kernel."
      ]
    },
    {
      "cell_type": "code",
      "metadata": {
        "collapsed": true,
        "id": "L-9r44-Zg288"
      },
      "source": [
        "n = 1024\n",
        "A = np.random.rand(n, n)\n",
        "B = np.random.rand(n, n)\n",
        "\n",
        "d_A = cuda.to_device(A)\n",
        "d_B = cuda.to_device(B)\n",
        "\n",
        "d_C = cuda.device_array_like(A)\n",
        "\n",
        "TPB = 16\n",
        "BPG = (n + TPB - 1) // TPB"
      ],
      "execution_count": null,
      "outputs": []
    },
    {
      "cell_type": "markdown",
      "metadata": {
        "id": "GxmHTDxfg288"
      },
      "source": [
        "Nous procédons de la même manière que précédemment pour obtenir le temps de calcul."
      ]
    },
    {
      "cell_type": "code",
      "metadata": {
        "id": "r1E7osFVg288"
      },
      "source": [
        "%timeit matmul[(BPG, BPG), (TPB, TPB)](d_A, d_B, d_C)"
      ],
      "execution_count": null,
      "outputs": []
    },
    {
      "cell_type": "markdown",
      "metadata": {
        "id": "07SSFNdSg289"
      },
      "source": [
        "Vous devriez constater que c'est très rapide (peut-être un peu trop rapide ...).\n",
        "\n",
        "#### Calcul des performances\n",
        "\n",
        "Lorsque l'on calcule les performances d'un kernel GPU, il faut être très vigilant. Lorsque vous appelez votre fonction, Numba vous rend tout de suite la main pour pouvoir continuer à faire des calculs sur le CPU (ce qui permet d'avoir un recouvrement des calculs entre le CPU et le GPU). Donc tant que vous ne cherchez pas à récupérer les données de la carte, le calcul se fait en arrière plan sans synchronisation.\n",
        "\n",
        "Afin de calculer correctement le temps de calcul, il est nécessaire de demander une synchronisation qui nous dit que tant que le calcul sur le GPU n'est pas terminé, nous n'allons pas plus loin."
      ]
    },
    {
      "cell_type": "code",
      "metadata": {
        "id": "zQMRCULSg289"
      },
      "source": [
        "%timeit matmul[(BPG, BPG), (TPB, TPB)](d_A, d_B, d_C); cuda.synchronize()"
      ],
      "execution_count": null,
      "outputs": []
    },
    {
      "cell_type": "code",
      "metadata": {
        "id": "0-1Dia7Wg289"
      },
      "source": [
        "np.allclose(d_C.copy_to_host(), A@B)"
      ],
      "execution_count": null,
      "outputs": []
    },
    {
      "cell_type": "markdown",
      "metadata": {
        "id": "XP6WaBUtg28-"
      },
      "source": [
        "Voilà qui semble plus raisonnable. Nous allons à présent voir comment optimiser ce kernel. La démarche est souvent la même. Il est coûteux d'aller chercher les données sur la mémoire globale. Or lors de la mutlplication, nous allons souvent chercher les mêmes valeurs des matrices A et B. \n",
        "\n",
        "#### Mémoire partagée\n",
        "\n",
        "Les cartes GPU sont dotées de mémoires partagées accessibles par l'ensemble des threads d'un même bloc. Numba permet d'allouer de la mémoire dans cet espace via"
      ]
    },
    {
      "cell_type": "code",
      "metadata": {
        "collapsed": true,
        "id": "exC35Iv1g28-"
      },
      "source": [
        "cuda.shared.array(shape, dtype)"
      ],
      "execution_count": null,
      "outputs": []
    },
    {
      "cell_type": "markdown",
      "metadata": {
        "id": "vGlXytuEg28-"
      },
      "source": [
        "Le produit matrice-matrice peut donc être découpé en deux étapes\n",
        "\n",
        "- l'ensemble des threads d'un même bloc met les blocs des matrices A et B dans la mémoire partagée\n",
        "- on fait le calcul permettant de calculer un bout de C\n",
        "\n",
        "La figure suivante résume la procédure\n",
        "\n",
        "![matmult](https://github.com/lsteffenel/cours_numba_2017/blob/master/figures/matrix-multiplication-with-shared-memory.png?raw=1)\n",
        "\n",
        "#### Synchronisation\n",
        "\n",
        "Il est très important de remarquer que la deuxième phase ne peut se faire que lorsque l'ensemble des threads ont écrit leur partie dans le tableau partagé. Il est donc nécessaire de s'assurer que le tableau est prêt. Pour se faire, nous avons besoin de faire une synchronisation indiquant à l'ensemble des threads d'attendre temps que tout le monde n'est pas là. Pour se faire, on utilisera la fonction Numba suivante"
      ]
    },
    {
      "cell_type": "code",
      "metadata": {
        "collapsed": true,
        "id": "XQ29gZ9Jg28-"
      },
      "source": [
        "cuda.syncthreads()"
      ],
      "execution_count": null,
      "outputs": []
    },
    {
      "cell_type": "markdown",
      "metadata": {
        "id": "Fl2Ap_1yg28-"
      },
      "source": [
        "Le kernel optimisé peut s'écrire"
      ]
    },
    {
      "cell_type": "code",
      "metadata": {
        "collapsed": true,
        "id": "03Q7kQzag28-"
      },
      "source": [
        "from numba import float64\n",
        "\n",
        "@cuda.jit\n",
        "def fast_matmul(A, B, C):\n",
        "    # Define an array in the shared memory\n",
        "    # The size and type of the arrays must be known at compile time\n",
        "    sA = cuda.shared.array(shape=(TPB, TPB), dtype=float64)\n",
        "    sB = cuda.shared.array(shape=(TPB, TPB), dtype=float64)\n",
        "\n",
        "    x, y = cuda.grid(2)\n",
        "\n",
        "    tx = cuda.threadIdx.x\n",
        "    ty = cuda.threadIdx.y\n",
        "    bpg = cuda.gridDim.x    # blocks per grid\n",
        "\n",
        "    # Each thread computes one element in the result matrix.\n",
        "    # The dot product is chunked into dot products of TPB-long vectors.\n",
        "    tmp = 0.\n",
        "    for i in range(bpg):\n",
        "        # Preload data into shared memory\n",
        "        sA[tx, ty] = A[x, ty + i * TPB]\n",
        "        sB[tx, ty] = B[tx + i * TPB, y]\n",
        "            \n",
        "        # Wait until all threads finish preloading\n",
        "        cuda.syncthreads()\n",
        "\n",
        "        # Computes partial product on the shared memory\n",
        "        for j in range(TPB):\n",
        "            tmp += sA[tx, j] * sB[j, ty]\n",
        "\n",
        "        # Wait until all threads finish computing\n",
        "        cuda.syncthreads()\n",
        "\n",
        "    C[x, y] = tmp"
      ],
      "execution_count": null,
      "outputs": []
    },
    {
      "cell_type": "markdown",
      "metadata": {
        "id": "ez6bDJwkg28_"
      },
      "source": [
        "**Attention** : ce kernel ne fonctionne que si n est un multiple du nombre de threads."
      ]
    },
    {
      "cell_type": "code",
      "metadata": {
        "id": "txdE3dVTg28_"
      },
      "source": [
        "%timeit fast_matmul[(BPG, BPG), (TPB, TPB)](d_A, d_B, d_C); cuda.synchronize()"
      ],
      "execution_count": null,
      "outputs": []
    },
    {
      "cell_type": "code",
      "metadata": {
        "id": "su1-aenBg28_"
      },
      "source": [
        "np.allclose(d_C.copy_to_host(), A@B)"
      ],
      "execution_count": null,
      "outputs": []
    },
    {
      "cell_type": "markdown",
      "metadata": {
        "id": "cw9Dg92yg28_"
      },
      "source": [
        "#### Fonctions sur le device\n",
        "\n",
        "Il est également possible de créer des fonctions qui sont appelables uniquement sur le device. \n",
        "\n",
        "Par exemple"
      ]
    },
    {
      "cell_type": "code",
      "metadata": {
        "collapsed": true,
        "id": "vn1p3p-mg29A"
      },
      "source": [
        "import math\n",
        "\n",
        "@cuda.jit(device=True)\n",
        "def sincos(a, b):\n",
        "    return math.sin(a)*math.cos(b)\n",
        "\n",
        "@cuda.jit\n",
        "def test_device_func(a, b, c):\n",
        "    i, j = cuda.grid(2)\n",
        "    \n",
        "    if i < c.shape[0] and j < c.shape[1]:\n",
        "        c[i, j] = sincos(a[i], b[j])"
      ],
      "execution_count": null,
      "outputs": []
    },
    {
      "cell_type": "code",
      "metadata": {
        "collapsed": true,
        "id": "AJjkn1hJg29A"
      },
      "source": [
        "a = np.linspace(0, 2*np.pi, 1000)\n",
        "b = np.linspace(0, 2*np.pi, 1000)\n",
        "\n",
        "d_a = cuda.to_device(a)\n",
        "d_b = cuda.to_device(b)\n",
        "d_c = cuda.device_array((1000, 1000))\n",
        "\n",
        "TPB = 32\n",
        "BPG = (1000 + TPB - 1) // TPB"
      ],
      "execution_count": null,
      "outputs": []
    },
    {
      "cell_type": "code",
      "metadata": {
        "collapsed": true,
        "id": "vNlxeMdUg29A"
      },
      "source": [
        "test_device_func[(BPG, BPG), (TPB, TPB)](d_a, d_b, d_c)"
      ],
      "execution_count": null,
      "outputs": []
    },
    {
      "cell_type": "code",
      "metadata": {
        "id": "r1YvaBb9g29A"
      },
      "source": [
        "np.allclose(d_c.copy_to_host(), np.sin(a[:, np.newaxis])*np.cos(b))"
      ],
      "execution_count": null,
      "outputs": []
    },
    {
      "cell_type": "markdown",
      "metadata": {
        "id": "D9LLNn5qg29B"
      },
      "source": [
        "## Exercices\n",
        "\n",
        "#### Exercice 1\n",
        "\n",
        "Implémentez sur GPU en utilisant **@cuda**, la fonction suivante avec et sans l'utilisation de la mémoire partagée"
      ]
    },
    {
      "cell_type": "code",
      "metadata": {
        "collapsed": true,
        "id": "FiR8YlEQg29B"
      },
      "source": [
        "def splint(xa, ya, y2a, x, y):\n",
        "    n = xa.shape[0]\n",
        "    for i in range(x.shape[0]):\n",
        "        klo = 0\n",
        "        khi = n-1\n",
        "        while(khi-klo) > 1:\n",
        "            k = (khi+klo) >> 1\n",
        "            if xa[k] > x[i]:\n",
        "                khi = k\n",
        "            else:\n",
        "                klo = k\n",
        "        h = xa[khi] - xa[klo]\n",
        "        a = (xa[khi]-x[i])/h    \n",
        "        b = (x[i]-xa[klo])/h\n",
        "        y[i,:] = a*ya[klo,:]+b*ya[khi,:]+((a**3-a)*y2a[klo,:]+(b**3-b)*y2a[khi,:])*h**2/6."
      ],
      "execution_count": null,
      "outputs": []
    },
    {
      "cell_type": "markdown",
      "metadata": {
        "id": "Ix4sIxTsg29B"
      },
      "source": [
        "#### Exercice 2\n",
        "Calculez les performances et observez à partir de quand cela devient intéressant."
      ]
    }
  ]
}