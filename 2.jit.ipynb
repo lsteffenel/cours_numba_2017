{
  "nbformat": 4,
  "nbformat_minor": 0,
  "metadata": {
    "kernelspec": {
      "display_name": "Python 3",
      "language": "python",
      "name": "python3"
    },
    "language_info": {
      "codemirror_mode": {
        "name": "ipython",
        "version": 3
      },
      "file_extension": ".py",
      "mimetype": "text/x-python",
      "name": "python",
      "nbconvert_exporter": "python",
      "pygments_lexer": "ipython3",
      "version": "3.6.3"
    },
    "colab": {
      "name": "2.jit.ipynb",
      "provenance": []
    }
  },
  "cells": [
    {
      "cell_type": "markdown",
      "metadata": {
        "id": "6fA5zVgHdzaJ"
      },
      "source": [
        "# Utilisation de jit\n",
        "\n",
        "<img src=\"https://github.com/lsteffenel/cours_numba_2017/blob/master/figures/numba_blue_icon_rgb.png?raw=1\" alt=\"Drawing\" style=\"width: 20%;\"/>\n",
        "\n",
        "<center>**Loic Gouarin**</center>\n",
        "<center>*8 novembre 2017*</center>\n",
        "\n",
        "Comme dit en introduction, Numba propose plusieurs fonctionnalités. La plus générale est la fonction jit. Nous allons dans la suite aborder l'ensemble des possibilités de celle-ci.\n",
        "\n",
        "Numba est efficace sur des données numériques de type scalaire ou des tableaux NumPy. Contrairement à vos habitudes pour une utilisation efficace de NumPy (écriture vectorielle), il est indispensable de dérouler les boucles comme vous le feriez dans un langage bas niveau pour avoir de bonnes performances. \n",
        "\n",
        "Prenons l'exemple d'un calcul sommant les coefficients d'un vecteur. En NumPy, ça s'écrit"
      ]
    },
    {
      "cell_type": "code",
      "metadata": {
        "id": "LKxc3n7MdzaO"
      },
      "source": [
        "import numpy as np\n",
        "\n",
        "x = np.random.rand(1000000)\n",
        "print(x.sum())"
      ],
      "execution_count": null,
      "outputs": []
    },
    {
      "cell_type": "markdown",
      "metadata": {
        "id": "zNAII7TOdzaQ"
      },
      "source": [
        "Le temps de calcul est"
      ]
    },
    {
      "cell_type": "code",
      "metadata": {
        "id": "awZB-xXMdzaR"
      },
      "source": [
        "%timeit x.sum()"
      ],
      "execution_count": null,
      "outputs": []
    },
    {
      "cell_type": "markdown",
      "metadata": {
        "id": "kxywdSexdzaR"
      },
      "source": [
        "Voyons ce que ça donne avec Numba."
      ]
    },
    {
      "cell_type": "code",
      "metadata": {
        "collapsed": true,
        "id": "GIpgt3pwdzaS"
      },
      "source": [
        "from numba import jit"
      ],
      "execution_count": null,
      "outputs": []
    },
    {
      "cell_type": "code",
      "metadata": {
        "collapsed": true,
        "id": "yLL44MCAdzaS"
      },
      "source": [
        "@jit\n",
        "def numba_sum(x):\n",
        "    res= 0\n",
        "    for i in range(x.size):\n",
        "        res += x[i]\n",
        "    return res"
      ],
      "execution_count": null,
      "outputs": []
    },
    {
      "cell_type": "code",
      "metadata": {
        "id": "7c3BUD-ddzaT"
      },
      "source": [
        "%timeit numba_sum(x)"
      ],
      "execution_count": null,
      "outputs": []
    },
    {
      "cell_type": "markdown",
      "metadata": {
        "id": "uo6ipgB3dzaU"
      },
      "source": [
        "Le message indiqué en première ligne est dû au fait que Numba compile la fonction lors de son premier appel. Du coup, l'exécution de la fonction *numba_sum* est beaucoup plus lente que les autres.\n",
        "\n",
        "Les performances sont bien plus mauvaises avec Numba. Ceci est dû au fait que NumPy utilise déjà des fonctions optimisées pour faire la somme."
      ]
    },
    {
      "cell_type": "markdown",
      "metadata": {
        "id": "q02weNCadzaV"
      },
      "source": [
        "## Fonctions utiles\n",
        "\n",
        "Le décorateur jit de Numba ajoute un certain nombre de fonctions offrant des informations pouvant s'avérer très utiles."
      ]
    },
    {
      "cell_type": "code",
      "metadata": {
        "collapsed": true,
        "id": "Z0rHarxadzaV"
      },
      "source": [
        "@jit\n",
        "def somme(a, b):\n",
        "    return a + b"
      ],
      "execution_count": null,
      "outputs": []
    },
    {
      "cell_type": "markdown",
      "metadata": {
        "id": "mFWxLLw5dzaW"
      },
      "source": [
        "#### inspect_types\n",
        "\n",
        "Cette méthode permet de savoir quelles sont les fonctions générées pour un certain type de données d'entrée tout en nous montrant l'inférence de type proposée par Numba."
      ]
    },
    {
      "cell_type": "code",
      "metadata": {
        "collapsed": true,
        "id": "JPBSa52NdzaW"
      },
      "source": [
        "somme.inspect_types()"
      ],
      "execution_count": null,
      "outputs": []
    },
    {
      "cell_type": "markdown",
      "metadata": {
        "id": "HBE84hWydzaX"
      },
      "source": [
        "Nous voyons ici qu'il n'y a pas pour le moment de fonction compilée par Numba. Si nous l'appelons une première fois avec un certain type de données"
      ]
    },
    {
      "cell_type": "code",
      "metadata": {
        "id": "k2lBKvhkdzaX"
      },
      "source": [
        "somme(1, 2)\n",
        "somme.inspect_types()"
      ],
      "execution_count": null,
      "outputs": []
    },
    {
      "cell_type": "code",
      "metadata": {
        "id": "eiGg46fkdzaX"
      },
      "source": [
        "somme(1., 2.)\n",
        "somme.inspect_types()"
      ],
      "execution_count": null,
      "outputs": []
    },
    {
      "cell_type": "markdown",
      "metadata": {
        "id": "_76FD81odzaY"
      },
      "source": [
        "#### inspect_llvm\n",
        "\n",
        "Vous pouvez également avoir accès à la représentation intermédiaire de LLVM."
      ]
    },
    {
      "cell_type": "code",
      "metadata": {
        "id": "5KmvPcIFdzaY"
      },
      "source": [
        "for k, v in somme.inspect_llvm().items():\n",
        "    print(v)"
      ],
      "execution_count": null,
      "outputs": []
    },
    {
      "cell_type": "markdown",
      "metadata": {
        "id": "sdMc1CSldzaZ"
      },
      "source": [
        "#### inspect_asm\n",
        "\n",
        "Vous pouvez également avoir accès à l'assembleur qui intervient dans la phase finale du processus."
      ]
    },
    {
      "cell_type": "code",
      "metadata": {
        "id": "C7u_4iZCdzaZ"
      },
      "source": [
        "for k, v in somme.inspect_asm().items():\n",
        "    print(v)"
      ],
      "execution_count": null,
      "outputs": []
    },
    {
      "cell_type": "markdown",
      "metadata": {
        "id": "j-RmrAsvdzaa"
      },
      "source": [
        "## Rappeler sa fonction Python initiale\n",
        "\n",
        "Il est toujours possibe d'appeler la fonction Python initiale sans la couche Numba."
      ]
    },
    {
      "cell_type": "code",
      "metadata": {
        "id": "FI7xyAsedzaa"
      },
      "source": [
        "somme.py_func(1, 2)"
      ],
      "execution_count": null,
      "outputs": []
    },
    {
      "cell_type": "markdown",
      "metadata": {
        "id": "ivDSxx5Kdzaa"
      },
      "source": [
        "## Spécialiser sa fonction pour des types données\n",
        "\n",
        "Si vous utilisez juste **@jit**, Numba créera pour vous une nouvelle fonction dès lors qu'il n'a pas à disposition la fonction compilée avec ces types. Vous pouvez néanmoins avoir envie que votre fonction ne marche que pour certains types et vous renvoie une erreur si les types ne sont pas supportés.\n",
        "\n",
        "Prenons par exemple le produit, nous voulons que celui-ci ne fonctionne que sur des entiers scalaires ou des tableaux 1d d'entiers. "
      ]
    },
    {
      "cell_type": "code",
      "metadata": {
        "collapsed": true,
        "id": "4AyEDKlWdzab"
      },
      "source": [
        "from numba import jit\n",
        "\n",
        "@jit(['int32[:](int32[:], int32[:])',\n",
        "      'int32(int32, int32)'])\n",
        "def produit(a, b):\n",
        "    return a*b"
      ],
      "execution_count": null,
      "outputs": []
    },
    {
      "cell_type": "code",
      "metadata": {
        "id": "d23nIquidzab"
      },
      "source": [
        "produit(2, 3)"
      ],
      "execution_count": null,
      "outputs": []
    },
    {
      "cell_type": "code",
      "metadata": {
        "id": "86hY7DpHdzab"
      },
      "source": [
        "produit(3., 2.2)"
      ],
      "execution_count": null,
      "outputs": []
    },
    {
      "cell_type": "code",
      "metadata": {
        "id": "CRg7emv0dzab"
      },
      "source": [
        "import numpy as np\n",
        "\n",
        "a = np.arange(10, dtype=np.int32)\n",
        "b = np.arange(10, dtype=np.int32)\n",
        "\n",
        "produit(a, b)"
      ],
      "execution_count": null,
      "outputs": []
    },
    {
      "cell_type": "code",
      "metadata": {
        "id": "ewZoTlIYdzac"
      },
      "source": [
        "import numpy as np\n",
        "\n",
        "a = np.random.random(10)\n",
        "b = np.random.random(10)\n",
        "\n",
        "produit(a, b)"
      ],
      "execution_count": null,
      "outputs": []
    },
    {
      "cell_type": "markdown",
      "metadata": {
        "id": "Uqx9PvxWdzac"
      },
      "source": [
        "Les types reconnus par Numba sont les suivants\n",
        "\n",
        "- void,\n",
        "- intp, uintp,\n",
        "- intc, uintc,\n",
        "- int8, uint8, int16, uint16, int32, uint32, int64, uint64,\n",
        "- float32, float64,\n",
        "- complex64, complex128.\n",
        "\n",
        "Pour les tableaux, il suffit de préciser chacune des dimensions par le caractère deux points (**:**). Par exemple\n",
        "\n",
        "- float32[:] est un tableau de type float du langage C à une dimension,\n",
        "- float64[:, :] est un tableau de type double du langage C à deux dimensions."
      ]
    },
    {
      "cell_type": "markdown",
      "metadata": {
        "id": "6H3JvUrCdzac"
      },
      "source": [
        "## Options de compilation\n",
        "\n",
        "Numba permet de mettre certaines directives suplémentaires dans les arguments du décorateur permettant de changer le comportement de la compilation. Pour le décorateur **@jit**, il en existe trois\n",
        "\n",
        "- **nopython** \n",
        "\n",
        "cette option indique qu'il n'y a pas d'objets Python dans la fonction à optimiser et que tout peut donc être fait en bas niveau. Si c'est le cas, le résultat est optimal. Essayez toujours de mettre ce mode. La compilation échouera si la fonction comporte des objets Python.\n",
        "\n",
        "- **nogil** \n",
        "\n",
        "cette option permet de relâcher le Global Interpreter Lock (GIL). Elle est utilisée lorsque l'on veut utiliser la fonction en parallèle en utilisant des threads.\n",
        "\n",
        "- **cache** \n",
        "\n",
        "si vous ne voulez pas que Numba recompile votre fonction à chaque lancement de votre script, vous pouvez utiliser cette fonctionnalité qui met dans un fichier la version optimisée."
      ]
    },
    {
      "cell_type": "markdown",
      "metadata": {
        "id": "Sm8_WH1Zdzad"
      },
      "source": [
        "## inlining\n",
        "\n",
        "Il est possible d'appeler des fonctions optimisées par **@jit** à l'intérieur de fonctions faisant également appel à **jit**. Si c'est possible, Numba les remplace alors directement par les lignes de codes associées.\n",
        "\n",
        "Par exemple"
      ]
    },
    {
      "cell_type": "code",
      "metadata": {
        "collapsed": true,
        "id": "nprAlZTUdzad"
      },
      "source": [
        "import math\n",
        "from numba import njit\n",
        "\n",
        "@njit\n",
        "def square(x):\n",
        "    return x ** 2\n",
        "\n",
        "@njit\n",
        "def hypot(x, y):\n",
        "    return math.sqrt(square(x) + square(y))"
      ],
      "execution_count": null,
      "outputs": []
    },
    {
      "cell_type": "code",
      "metadata": {
        "id": "OE20PDLsdzad"
      },
      "source": [
        "hypot(2., 3.)"
      ],
      "execution_count": null,
      "outputs": []
    },
    {
      "cell_type": "code",
      "metadata": {
        "id": "FtyE_C0Gdzad"
      },
      "source": [
        "for k, v in hypot.inspect_asm().items():\n",
        "    print(v)"
      ],
      "execution_count": null,
      "outputs": []
    },
    {
      "cell_type": "markdown",
      "metadata": {
        "id": "oytVjZIRdzae"
      },
      "source": [
        "## Exercice\n",
        "\n",
        "Dans toute la suite de ce tutoriel, nous allons optimiser un ensemble de fonctions travaillant sur des splines cubiques. Il ne sera pas nécessaire de connaître les maths qu'il y a derrière et nous ne rentrerons donc pas dans les détails (si ça vous intéresse, vous pouvez suivre ce [lien](http://www.aip.de/groups/soe/local/numres/bookcpdf/c3-3.pdf)).\n",
        "\n",
        "Le choix de cette exercice vient du site [inconvergent](http://inconvergent.net/generative). En prenant une figure géométrique de départ et en y associant une spline cubique passant par un ensemble de points discrétisant celle-ci, il est possible par petites perturbations successives d'avoir de très jolies images. Comme ces deux exemples.\n",
        "\n",
        "![Sand Spline](https://github.com/lsteffenel/cours_numba_2017/blob/master/figures/sandspline.png?raw=1)\n",
        "\n",
        "Le code source est dicponible [ici](https://github.com/gouarin/cours_numba_2017/blob/master/examples/sandspline/origin.py). L'explication du problème se trouve dans ce [notebook](./spline.ipynb)."
      ]
    },
    {
      "cell_type": "markdown",
      "metadata": {
        "id": "M8kkmUs2dzae"
      },
      "source": [
        "Lorsque l'on utilise des splines cubiques, il est nécessaire de calculer la dérivée seconde passant par un ensemble de points. La fonction qui permet de les calculer est la suivante."
      ]
    },
    {
      "cell_type": "code",
      "metadata": {
        "collapsed": true,
        "id": "XVKmftmmdzae"
      },
      "source": [
        "def cubic_spline(x, y):\n",
        "    n = x.shape[0]\n",
        "    u = np.zeros_like(y)\n",
        "    y2 = np.zeros_like(y)\n",
        "\n",
        "    dif = np.diff(x)\n",
        "    sig = dif[:-1]/(x[2:]-x[:-2])\n",
        "    \n",
        "    u[1:-1] = (y[2:]- y[1:-1])/dif[1:] - (y[1:-1]-y[:-2])/dif[:-1]\n",
        "\n",
        "    for i in range(1, n-1):\n",
        "        p = sig[i-1]*y2[i-1] + 2.\n",
        "        y2[i] = (sig[i-1]-1)/p\n",
        "        u[i] = (6*u[i]/(x[i+1]-x[i-1])-sig[i-1]*u[i-1])/p\n",
        "    \n",
        "    for i in range(n-2, -1, -1):\n",
        "        y2[i] = y2[i]*y2[i+1]+u[i]\n",
        "\n",
        "    return y2"
      ],
      "execution_count": null,
      "outputs": []
    },
    {
      "cell_type": "code",
      "metadata": {
        "collapsed": true,
        "id": "6xq2HfYadzae"
      },
      "source": [
        "import numpy as np\n",
        "\n",
        "x = np.random.random(100)\n",
        "y = np.random.random(100)"
      ],
      "execution_count": null,
      "outputs": []
    },
    {
      "cell_type": "code",
      "metadata": {
        "id": "32mwlWxydzae"
      },
      "source": [
        "cubic_spline(x, y)\n",
        "%timeit cubic_spline(x, y)"
      ],
      "execution_count": null,
      "outputs": []
    },
    {
      "cell_type": "markdown",
      "metadata": {
        "id": "vdiqBN2ydzaf"
      },
      "source": [
        "#### Exercice 1\n",
        "\n",
        "Essayer d'optimiser cette fonction en mettant juste **@jit**.\n",
        "\n",
        "#### Exercice 2\n",
        "\n",
        "Essayer de mettre **@jit(nopython=True)** ou **@njit**. Qu'en déduisez-vous ?\n",
        "\n",
        "#### Exercice 3\n",
        "\n",
        "Essayer d'améliorer les performances en aidant un peu plus Numba à optimiser cette fonction. Quel est le gain ?"
      ]
    },
    {
      "cell_type": "code",
      "metadata": {
        "collapsed": true,
        "id": "5mmKFmbjdzaf"
      },
      "source": [
        ""
      ],
      "execution_count": null,
      "outputs": []
    }
  ]
}