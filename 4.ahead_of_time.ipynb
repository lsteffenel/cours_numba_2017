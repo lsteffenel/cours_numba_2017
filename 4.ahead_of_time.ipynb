{
  "nbformat": 4,
  "nbformat_minor": 0,
  "metadata": {
    "kernelspec": {
      "display_name": "Python 3",
      "language": "python",
      "name": "python3"
    },
    "language_info": {
      "codemirror_mode": {
        "name": "ipython",
        "version": 3
      },
      "file_extension": ".py",
      "mimetype": "text/x-python",
      "name": "python",
      "nbconvert_exporter": "python",
      "pygments_lexer": "ipython3",
      "version": "3.6.3"
    },
    "colab": {
      "name": "4.ahead of time.ipynb",
      "provenance": []
    }
  },
  "cells": [
    {
      "cell_type": "markdown",
      "metadata": {
        "id": "ln9vVZ1AgAc5"
      },
      "source": [
        "# Ahead Of Time\n",
        "\n",
        "<img src=\"https://github.com/lsteffenel/cours_numba_2017/blob/master/figures/numba_blue_icon_rgb.png?raw=1\" alt=\"Drawing\" style=\"width: 20%;\"/>\n",
        "\n",
        "<center>**Loic Gouarin**</center>\n",
        "<center>*8 novembre 2017*</center>\n",
        "\n",
        "Nous avons vu jusqu'ici comment utiliser Numba en mode Just In Time. Si cette fonctionnalité est bien utile lorsque nous sommes dans une phase de développement, elle ne l'est pas forcément lorsque l'on veut faire un code de production. Vous pouvez bien évidemment utiliser l'option **cache=True** lorsque vous utilisez **@jit** pour que Numba ne recompile pas la fonction si elle est dans le cache. \n",
        "\n",
        "Mais imaginez que vous pouvez faire de l'Ahead Of Time, vous pourriez alors\n",
        "\n",
        "- construire une fois pour toute vos kernels qui ne sont pas sensés évoluer vous épargnant ainsi le temps de compilation,\n",
        "- diffuser directement votre code sans dépendances à Numba (la librairie est précompilée).\n",
        "\n",
        "Néanmoins, cette fonctionnalité souffre pour le moment de quelques limitations\n",
        "\n",
        "- vous ne pouvez pas l'utiliser sur des ufuncs;\n",
        "- vous devez spécifier la signature de vos fonctions (les types acceptés en argument);\n",
        "- chaque fonction exportée ne peut avoir qu'un signature;\n",
        "- la compilation est faite avec l'architecture de votre machine. Alors que **@jit** optimise en fonction de l'architecture où le code tourne.\n",
        "\n",
        "Numba offre deux manières d'utiliser l'Ahead Of Time\n",
        "\n",
        "- soit directement dans un script Python,\n",
        "- soit en utilisant distutils.\n",
        "\n",
        "## Exemple dans un script"
      ]
    },
    {
      "cell_type": "code",
      "metadata": {
        "id": "HH26cma6gAdA"
      },
      "source": [
        "from numba.pycc import CC\n",
        "\n",
        "module = CC('addmod')\n",
        "\n",
        "@module.export('add_double', 'f8(f8, f8)')\n",
        "@module.export('add_int', 'i4(i4, i4)')\n",
        "@module.export('add_array', 'f8[:](f8[:], f8[:])')\n",
        "def add (a, b):\n",
        "    return a + b\n",
        "\n",
        "module.compile()"
      ],
      "execution_count": null,
      "outputs": []
    },
    {
      "cell_type": "markdown",
      "metadata": {
        "id": "aJ80kDl1gAdC"
      },
      "source": [
        "Une fois le module compilé, on peut l'importer et s'en servir."
      ]
    },
    {
      "cell_type": "code",
      "metadata": {
        "id": "U4Lao--HgAdD"
      },
      "source": [
        "import addmod\n",
        "\n",
        "print(addmod.add_double(1., 2.))\n",
        "print(addmod.add_int(1, 2))"
      ],
      "execution_count": null,
      "outputs": []
    },
    {
      "cell_type": "code",
      "metadata": {
        "id": "F2MR-DKsgAdD"
      },
      "source": [
        "import numpy as np\n",
        "\n",
        "a = np.ones(10)\n",
        "print(addmod.add_array(a, a))"
      ],
      "execution_count": null,
      "outputs": []
    }
  ]
}